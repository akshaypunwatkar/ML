{
 "cells": [
  {
   "cell_type": "markdown",
   "metadata": {},
   "source": [
    "# Assignment 1 - Probability, Linear Algebra, Programming, and Git"
   ]
  },
  {
   "cell_type": "markdown",
   "metadata": {},
   "source": [
    "## *Akshay Punwatkar*\n",
    "Netid:  *AP509*"
   ]
  },
  {
   "cell_type": "markdown",
   "metadata": {},
   "source": [
    "Instructions for all assignments can be found [here](https://github.com/kylebradbury/ids705/blob/master/assignments/_Assignment%20Instructions.ipynb), which is also linked to from the [course syllabus](https://kylebradbury.github.io/ids705/index.html)."
   ]
  },
  {
   "cell_type": "markdown",
   "metadata": {},
   "source": [
    "# Probability and Statistics Theory"
   ]
  },
  {
   "cell_type": "markdown",
   "metadata": {},
   "source": [
    "*Note: for all assignments, write out all equations and math using markdown and [LaTeX](https://tobi.oetiker.ch/lshort/lshort.pdf). For this section of the assignment (Probability and Statistics Theory) show and type up ALL math work*"
   ]
  },
  {
   "cell_type": "markdown",
   "metadata": {},
   "source": [
    "## 1\n",
    "**[3 points]**  \n",
    "Let $f(x) = \\begin{cases}\n",
    "                0           & x < 0  \\\\\n",
    "                \\alpha x^2  & 0 \\leq x \\leq 2 \\\\\n",
    "                0           & 2 < x\n",
    "            \\end{cases}$\n",
    "            \n",
    "For what value of $\\alpha$ is $f(x)$ a valid probability density function?"
   ]
  },
  {
   "cell_type": "markdown",
   "metadata": {},
   "source": [
    "**ANSWER**"
   ]
  },
  {
   "cell_type": "markdown",
   "metadata": {},
   "source": [
    "For $f(x)$ to be a valid Porbability Density Function (PDF),    \n",
    "    $f(x)$ must be positive, and $\\int_{0}^{2}f(x) = 1$      \n",
    "    \n",
    "$\\int_{0}^{2} \\alpha x^2 = 1$     \n",
    "    \n",
    "$\\alpha \\times [\\frac{x^3}{3}]_{0}^{2} = 1$     \n",
    "    \n",
    "$\\alpha = \\frac{3}{8}$\n",
    "\n",
    "    "
   ]
  },
  {
   "cell_type": "markdown",
   "metadata": {},
   "source": [
    "## 2\n",
    "**[3 points]** What is the cumulative distribution function (CDF) that corresponds to the following probability distribution function? Please state the value of the CDF for all possible values of $x$.\n",
    "\n",
    "$f(x) = \\begin{cases}\n",
    "    \\frac{1}{3} & 0 < x < 3 \\\\\n",
    "    0           & \\text{otherwise}\n",
    "    \\end{cases}$"
   ]
  },
  {
   "cell_type": "markdown",
   "metadata": {},
   "source": [
    "**ANSWER**"
   ]
  },
  {
   "cell_type": "markdown",
   "metadata": {},
   "source": [
    "CDF = $\\int_{0}^{x} \\frac{1}{3} dx$     \n",
    "\n",
    "$[\\frac{x}{3}]_{0}^{x}$  = $\\frac{x}{3}$"
   ]
  },
  {
   "cell_type": "markdown",
   "metadata": {},
   "source": [
    "CDF defined as :   \n",
    "\n",
    "$F(x) = \\begin{cases}\n",
    "                0           & x \\leq 0  \\\\\n",
    "                \\frac{x}{3}  & 0 < x < 3 \\\\\n",
    "                1           & x \\geq 3\n",
    "            \\end{cases}$"
   ]
  },
  {
   "cell_type": "markdown",
   "metadata": {},
   "source": [
    "## 3\n",
    "**[6 points]** For the probability distribution function for the random variable $X$,\n",
    "\n",
    "$f(x) = \\begin{cases}\n",
    "    \\frac{1}{3} & 0 < x < 3 \\\\\n",
    "    0           & \\text{otherwise}\n",
    "    \\end{cases}$\n",
    "    \n",
    "what is the (a) expected value and (b) variance of $X$. *Show all work*."
   ]
  },
  {
   "cell_type": "markdown",
   "metadata": {},
   "source": [
    "**ANSWER**"
   ]
  },
  {
   "cell_type": "markdown",
   "metadata": {},
   "source": [
    "**(a) Expected value (Mean)**"
   ]
  },
  {
   "cell_type": "markdown",
   "metadata": {},
   "source": [
    "$\\int_{0}^{3} x \\times \\frac{1}{3} dx$    \n",
    "      \n",
    "= $ \\frac{1}{6} [x^{2}]_{0}^{3}$       \n",
    "     \n",
    "= $ \\frac{3}{2}$      \n",
    "     \n",
    "*Expected Value (mean) = $\\frac{3}{2}$*\n"
   ]
  },
  {
   "cell_type": "markdown",
   "metadata": {},
   "source": [
    "**(b) Variance**"
   ]
  },
  {
   "cell_type": "markdown",
   "metadata": {},
   "source": [
    "$\\int_{0}^{3} \\frac{x^2}{3} dx$ - $(\\frac{3}{2})^2$    \n",
    "     \n",
    "= $[\\frac{x^3}{9}]_{0}^{3}$ - $\\frac{9}{4}$  \n",
    "     \n",
    "= $\\frac{1}{9} \\times [27]$ - $\\frac{9}{4}$  \n",
    "    \n",
    "= $\\frac{3}{4}$    \n",
    "\n",
    "*Variance = $\\frac{3}{4}$*"
   ]
  },
  {
   "cell_type": "markdown",
   "metadata": {},
   "source": [
    "## 4\n",
    "**[6 points]** Consider the following table of data that provides the values of a discrete data vector $\\mathbf{x}$ of samples from the random variable $X$, where each entry in $\\mathbf{x}$ is given as $x_i$.\n",
    "\n",
    "*Table 1. Dataset N=5 observations*\n",
    "\n",
    "|        | $x_0$ | $x_1$ | $x_2$ | $x_3$ | $x_4$ |\n",
    "|------  |-------|-------|-------|-------|-------|\n",
    "|$\\textbf{x}$| 2     | 3     | 10    | -1    | -1    |\n",
    "\n",
    "What is the (a) mean, (b) variance, and the  of the data? \n",
    "\n",
    "*Show all work. Your answer should include the definition of mean, median, and variance in the context of discrete data.*"
   ]
  },
  {
   "cell_type": "markdown",
   "metadata": {},
   "source": [
    "**ANSWER**"
   ]
  },
  {
   "cell_type": "code",
   "execution_count": 12,
   "metadata": {},
   "outputs": [
    {
     "name": "stdout",
     "output_type": "stream",
     "text": [
      "\n",
      " Mean is 2.6\n",
      "\n",
      " Variance is 16.24\n"
     ]
    }
   ],
   "source": [
    "import numpy as np\n",
    "\n",
    "num_list = [2,3,10,-1,-1]\n",
    "mean_list = np.mean(num_list)\n",
    "var = round(np.std(num_list)**2,2)\n",
    "\n",
    "print(\"\\n Mean is {}\".format(mean_list))\n",
    "print(\"\\n Variance is {}\".format(var))"
   ]
  },
  {
   "cell_type": "markdown",
   "metadata": {},
   "source": [
    "(a) Mean is $\\mu={\\frac {1}{n}}\\sum _{i=1}^{n}a_{i}={\\frac {a_{1}+a_{2}+\\cdots +a_{n}}{n}}$\n",
    "\n",
    "Mean  = $\\frac{2+3+10+(-1)+(-1)}{5}$     \n",
    "       \n",
    "= **2.6**      \n",
    "    "
   ]
  },
  {
   "cell_type": "markdown",
   "metadata": {},
   "source": [
    "(b) Variance is $\\sigma^2 = \\frac{\\displaystyle\\sum_{i=1}^{n}(a_i - \\mu)^2} {n}$\n",
    "\n",
    "\n",
    "Variance = $\\frac{(2-2.6)^2 + (3-2.6)^2 + (10-2.6)^2 + (-1-2.6)^2 + (-1-2.6)^2 }{5}$ \n",
    "     \n",
    " = **16.24**     \n"
   ]
  },
  {
   "cell_type": "markdown",
   "metadata": {},
   "source": [
    "Median is the center value of the data when arranged in order.   \n",
    "For (-1, -1, 2, 3, 10) **median is 2**"
   ]
  },
  {
   "cell_type": "markdown",
   "metadata": {},
   "source": [
    "## 5\n",
    "**[8 points]** Review of counting from probability theory. \n",
    "\n",
    "(a) How many different 7-place license plates are possible if the first 3 places only contain letters and the last 4 only contain numbers?\n",
    "\n",
    "(b) How many different batting orders are possible for a baseball team with 9 players?\n",
    "\n",
    "(c) How many batting orders of 5 players are possible for a team with 9 players total?\n",
    "\n",
    "(d) Let's assume this class has 26 students and we want to form project teams. How many unique teams of 3 are possible?\n",
    "\n",
    "*Hint: For each problem, determine if order matters, and if it should be calculated with or without replacement.*"
   ]
  },
  {
   "cell_type": "markdown",
   "metadata": {},
   "source": [
    "**ANSWER**"
   ]
  },
  {
   "cell_type": "code",
   "execution_count": 11,
   "metadata": {},
   "outputs": [],
   "source": [
    "import math\n",
    "f = math.factorial"
   ]
  },
  {
   "cell_type": "markdown",
   "metadata": {},
   "source": [
    "**(a) Number of possible license plates will be 26C1 * 26C1 * 26C1 * 10C1 * 10C1 * 10C1 * 10C1**  = *175,760,000*"
   ]
  },
  {
   "cell_type": "code",
   "execution_count": 4,
   "metadata": {},
   "outputs": [
    {
     "name": "stdout",
     "output_type": "stream",
     "text": [
      "175760000\n"
     ]
    }
   ],
   "source": [
    "license_combin = 26 * 26 * 26 * 10 * 10 * 10 * 10\n",
    "print(license_combin)"
   ]
  },
  {
   "cell_type": "markdown",
   "metadata": {},
   "source": [
    "**(b) Number of batting orders possible with 9 players is 9!** = *362880*"
   ]
  },
  {
   "cell_type": "code",
   "execution_count": 5,
   "metadata": {},
   "outputs": [
    {
     "name": "stdout",
     "output_type": "stream",
     "text": [
      "362880\n"
     ]
    }
   ],
   "source": [
    "print(f(9))"
   ]
  },
  {
   "cell_type": "markdown",
   "metadata": {},
   "source": [
    "**(c) Batting order of 5 players in the team of 9 players would be 9P5** = *15120*"
   ]
  },
  {
   "cell_type": "code",
   "execution_count": 16,
   "metadata": {},
   "outputs": [
    {
     "name": "stdout",
     "output_type": "stream",
     "text": [
      "15120.0\n"
     ]
    }
   ],
   "source": [
    "order = f(9)/f(4)\n",
    "print(order)"
   ]
  },
  {
   "cell_type": "markdown",
   "metadata": {},
   "source": [
    "**(d) Number of ways to select 3 students from 26 would be  26C3** = *2600*"
   ]
  },
  {
   "cell_type": "code",
   "execution_count": 7,
   "metadata": {},
   "outputs": [
    {
     "name": "stdout",
     "output_type": "stream",
     "text": [
      "2600.0\n"
     ]
    }
   ],
   "source": [
    "ways = f(26) / (f(23)*f(3))\n",
    "print(ways)"
   ]
  },
  {
   "cell_type": "markdown",
   "metadata": {},
   "source": [
    "# Linear Algebra"
   ]
  },
  {
   "cell_type": "markdown",
   "metadata": {},
   "source": [
    "## 6\n",
    "**[7 points]** **Matrix manipulations and multiplication**. Machine learning involves working with many matrices, so this exercise will provide you with the opportunity to practice those skills.\n",
    "\n",
    "Let\n",
    "$\\mathbf{A} =  \\begin{bmatrix}\n",
    "1 & 2 & 3 \\\\\n",
    "2 & 4 & 5 \\\\\n",
    "3 & 5 & 6 \n",
    "\\end{bmatrix}$, $\\mathbf{b} =  \\begin{bmatrix}\n",
    "-1  \\\\\n",
    "3  \\\\\n",
    "8  \n",
    "\\end{bmatrix}$, $\\mathbf{c} =  \\begin{bmatrix}\n",
    "4  \\\\\n",
    "-3  \\\\\n",
    "6  \n",
    "\\end{bmatrix}$, and $\\mathbf{I} =  \\begin{bmatrix}\n",
    "1 & 0 & 0 \\\\\n",
    "0 & 1 & 0 \\\\\n",
    "0 & 0 & 1 \n",
    "\\end{bmatrix}$\n",
    "\n",
    "Compute the following or indicate that it cannot be computed:\n",
    "\n",
    "1. $\\mathbf{A}\\mathbf{A}$\n",
    "2. $\\mathbf{A}\\mathbf{A}^T$\n",
    "3. $\\mathbf{A}\\mathbf{b}$\n",
    "4. $\\mathbf{A}\\mathbf{b}^T$\n",
    "5. $\\mathbf{b}\\mathbf{A}$\n",
    "6. $\\mathbf{b}^T\\mathbf{A}$\n",
    "7. $\\mathbf{b}\\mathbf{b}$\n",
    "8. $\\mathbf{b}^T\\mathbf{b}$\n",
    "9. $\\mathbf{b}\\mathbf{b}^T$\n",
    "10. $\\mathbf{b} + \\mathbf{c}^T$\n",
    "11. $\\mathbf{b}^T\\mathbf{b}^T$\n",
    "12. $\\mathbf{A}^{-1}\\mathbf{b}$\n",
    "13. $\\mathbf{A}\\circ\\mathbf{A}$\n",
    "14. $\\mathbf{b}\\circ\\mathbf{c}$\n",
    "\n",
    "*Note: The element-wise (or Hadamard) product is the product of each element in one matrix with the corresponding element in another matrix, and is represented by the symbol \"$\\circ$\".*"
   ]
  },
  {
   "cell_type": "markdown",
   "metadata": {},
   "source": [
    "**ANSWER**"
   ]
  },
  {
   "cell_type": "code",
   "execution_count": 54,
   "metadata": {},
   "outputs": [],
   "source": [
    "A = np.array([[1,2,3],[2,4,5],[3,5,6]])\n",
    "B = np.array([[-1],[3],[8]])\n",
    "C = np.array([[4],[-3],[6]])\n",
    "I = np.array([[1,0,0],[0,1,0],[0,0,1]])"
   ]
  },
  {
   "cell_type": "code",
   "execution_count": 31,
   "metadata": {},
   "outputs": [
    {
     "name": "stdout",
     "output_type": "stream",
     "text": [
      "1.\n",
      "\n",
      "[[14 25 31]\n",
      " [25 45 56]\n",
      " [31 56 70]]\n"
     ]
    }
   ],
   "source": [
    "print(\"1.\\n\\n{}\".format(A.dot(A)))"
   ]
  },
  {
   "cell_type": "code",
   "execution_count": 29,
   "metadata": {},
   "outputs": [
    {
     "name": "stdout",
     "output_type": "stream",
     "text": [
      "2.\n",
      "\n",
      "[[14 25 31]\n",
      " [25 45 56]\n",
      " [31 56 70]]\n"
     ]
    }
   ],
   "source": [
    "print(\"2.\\n\\n{}\".format(A.dot(A.transpose())))"
   ]
  },
  {
   "cell_type": "code",
   "execution_count": 30,
   "metadata": {},
   "outputs": [
    {
     "name": "stdout",
     "output_type": "stream",
     "text": [
      "3.\n",
      "\n",
      "[[29]\n",
      " [50]\n",
      " [60]]\n"
     ]
    }
   ],
   "source": [
    "print(\"3.\\n\\n{}\".format(A.dot(B)))"
   ]
  },
  {
   "cell_type": "markdown",
   "metadata": {},
   "source": [
    "4. $\\mathbf{A}\\mathbf{b}^T$ - Not possible becuase number of columns in **A** (i.e. 3) is not equal to number of rows in transpose of **b** (i.e. 1)"
   ]
  },
  {
   "cell_type": "markdown",
   "metadata": {},
   "source": [
    "5. $\\mathbf{b}\\mathbf{A}$ - Not possible becuase number of columns in **b** (i.e. 1) is not equal to number of rows in **A** (i.e. 3)"
   ]
  },
  {
   "cell_type": "code",
   "execution_count": 43,
   "metadata": {},
   "outputs": [
    {
     "name": "stdout",
     "output_type": "stream",
     "text": [
      "6.\n",
      "\n",
      "[[29 50 60]]\n"
     ]
    }
   ],
   "source": [
    "print(\"6.\\n\\n{}\".format(B.transpose().dot(A)))"
   ]
  },
  {
   "cell_type": "markdown",
   "metadata": {},
   "source": [
    "7. $\\mathbf{b}\\mathbf{b}$ - Not possible becuase number of columns in **b** (i.e. 1) is not equal to number of rows in **b** (i.e. 3)"
   ]
  },
  {
   "cell_type": "code",
   "execution_count": 35,
   "metadata": {},
   "outputs": [
    {
     "name": "stdout",
     "output_type": "stream",
     "text": [
      "8.\n",
      "\n",
      "[[74]]\n"
     ]
    }
   ],
   "source": [
    "print(\"8.\\n\\n{}\".format(B.transpose().dot(B)))"
   ]
  },
  {
   "cell_type": "code",
   "execution_count": 36,
   "metadata": {},
   "outputs": [
    {
     "name": "stdout",
     "output_type": "stream",
     "text": [
      "9.\n",
      "\n",
      "[[ 1 -3 -8]\n",
      " [-3  9 24]\n",
      " [-8 24 64]]\n"
     ]
    }
   ],
   "source": [
    "print(\"9.\\n\\n{}\".format(B.dot(B.transpose())))"
   ]
  },
  {
   "cell_type": "markdown",
   "metadata": {},
   "source": [
    "10. $\\mathbf{b} + \\mathbf{c}^T$ - Not Possible because dimension of $\\mathbf{b}$ (3,1) is not equal to the dimension of  $\\mathbf{c}^T$ (1,3)"
   ]
  },
  {
   "cell_type": "markdown",
   "metadata": {},
   "source": [
    "11. $\\mathbf{b}^T\\mathbf{b}^T$ - Not possible becuase number of columns in **$\\mathbf{b}^T$** (i.e. 3) is not equal to number of rows in **$\\mathbf{b}^T$** (i.e. 1)"
   ]
  },
  {
   "cell_type": "code",
   "execution_count": 49,
   "metadata": {},
   "outputs": [
    {
     "name": "stdout",
     "output_type": "stream",
     "text": [
      "12.\n",
      "\n",
      "[[ 6.]\n",
      " [ 4.]\n",
      " [-5.]]\n"
     ]
    }
   ],
   "source": [
    "A_inv = np.linalg.inv(A)\n",
    "print(\"12.\\n\\n{}\".format(A_inv.dot(B)))"
   ]
  },
  {
   "cell_type": "code",
   "execution_count": 55,
   "metadata": {},
   "outputs": [
    {
     "name": "stdout",
     "output_type": "stream",
     "text": [
      "13.\n",
      "\n",
      "[[ 1  4  9]\n",
      " [ 4 16 25]\n",
      " [ 9 25 36]]\n"
     ]
    }
   ],
   "source": [
    "print(\"13.\\n\\n{}\".format(A*A))"
   ]
  },
  {
   "cell_type": "code",
   "execution_count": 56,
   "metadata": {},
   "outputs": [
    {
     "name": "stdout",
     "output_type": "stream",
     "text": [
      "14.\n",
      "\n",
      "[[-4]\n",
      " [-9]\n",
      " [48]]\n"
     ]
    }
   ],
   "source": [
    "print(\"14.\\n\\n{}\".format(B*C))"
   ]
  },
  {
   "cell_type": "markdown",
   "metadata": {},
   "source": [
    "## 7\n",
    "**[8 points]** **Eigenvectors and eigenvalues**. Eigenvectors and eigenvalues are useful for some machine learning algorithms, but the concepts take time to solidly grasp. For an intuitive review of these concepts, explore this [interactive website at Setosa.io](http://setosa.io/ev/eigenvectors-and-eigenvalues/). Also, the series of linear algebra videos by Grant Sanderson of 3Brown1Blue are excellent and can be viewed on youtube [here](https://www.youtube.com/playlist?list=PLZHQObOWTQDPD3MizzM2xVFitgF8hE_ab).\n",
    "\n",
    "1. Calculate the eigenvalues and corresponding eigenvectors of matrix $\\mathbf{A}$ above, from the last question.\n",
    "2. Choose one of the eigenvector/eigenvalue pairs, $\\mathbf{v}$ and $\\lambda$, and show that $\\mathbf{A} \\mathbf{v} = \\lambda \\mathbf{v}$. Also show that this relationship extends to higher orders: $\\mathbf{A} \\mathbf{A} \\mathbf{v} = \\lambda^2 \\mathbf{v}$\n",
    "3. Show that the eigenvectors are orthogonal to one another (e.g. their inner product is zero). This is true for real, symmetric matrices."
   ]
  },
  {
   "cell_type": "markdown",
   "metadata": {},
   "source": [
    "**ANSWER**"
   ]
  },
  {
   "cell_type": "code",
   "execution_count": 55,
   "metadata": {},
   "outputs": [],
   "source": [
    "eigen_A = np.linalg.eig(A)"
   ]
  },
  {
   "cell_type": "code",
   "execution_count": 58,
   "metadata": {},
   "outputs": [
    {
     "name": "stdout",
     "output_type": "stream",
     "text": [
      "\n",
      "Eigen Values for A are : [11.34481428 -0.51572947  0.17091519]\n",
      "\n",
      "Eigen Vectors for A are \n",
      "\n",
      " [[-0.32798528 -0.59100905 -0.73697623]\n",
      " [-0.73697623 -0.32798528  0.59100905]\n",
      " [ 0.59100905 -0.73697623  0.32798528]]\n"
     ]
    }
   ],
   "source": [
    "eigen_val = eigen_A[0]\n",
    "print(\"\\nEigen Values for A are : %s\"%(eigen_val))\n",
    "eigen_vec = eigen_A[1].transpose()\n",
    "print(\"\\nEigen Vectors for A are \\n\\n %s\"%(eigen_vec))"
   ]
  },
  {
   "cell_type": "code",
   "execution_count": 60,
   "metadata": {},
   "outputs": [
    {
     "name": "stdout",
     "output_type": "stream",
     "text": [
      "\n",
      "Selected Eigen Vector [-0.32798528 -0.59100905 -0.73697623]\n",
      "\n",
      "Selected Eigen Value 11.344814282762083\n"
     ]
    }
   ],
   "source": [
    "v = eigen_vec[0]\n",
    "lamb = eigen_val[0]\n",
    "\n",
    "print(\"\\nSelected Eigen Vector %s\"%(v))\n",
    "print(\"\\nSelected Eigen Value %s\"%(lamb))"
   ]
  },
  {
   "cell_type": "markdown",
   "metadata": {},
   "source": [
    "**Computing   $\\mathbf{A} \\mathbf{v} = \\lambda \\mathbf{v}$**"
   ]
  },
  {
   "cell_type": "code",
   "execution_count": 61,
   "metadata": {},
   "outputs": [
    {
     "name": "stdout",
     "output_type": "stream",
     "text": [
      "\n",
      "Av = \n",
      "[-3.72093206 -6.70488789 -8.36085845]\n",
      "\n",
      "lambda*v = \n",
      "[-3.72093206 -6.70488789 -8.36085845]\n"
     ]
    }
   ],
   "source": [
    "Av = np.dot(A,v)\n",
    "print(\"\\nAv = \\n%s\"%(Av))\n",
    "lambv = lamb*v\n",
    "print(\"\\nlambda*v = \\n%s\"%(lambv))"
   ]
  },
  {
   "cell_type": "markdown",
   "metadata": {},
   "source": [
    "**Computing $\\mathbf{A} \\mathbf{A} \\mathbf{v} = \\lambda^2 \\mathbf{v}$**"
   ]
  },
  {
   "cell_type": "code",
   "execution_count": 62,
   "metadata": {},
   "outputs": [
    {
     "name": "stdout",
     "output_type": "stream",
     "text": [
      "\n",
      "AAv = \n",
      "[-42.2132832  -76.06570795 -94.85238636]\n",
      "\n",
      "lambSq*v = \n",
      "[-42.2132832  -76.06570795 -94.85238636]\n"
     ]
    }
   ],
   "source": [
    "AAv = np.dot(A,Av)\n",
    "print(\"\\nAAv = \\n%s\"%(AAv))\n",
    "lambSqv = (lamb**2)*v\n",
    "print(\"\\nlambSq*v = \\n%s\"%(lambSqv))"
   ]
  },
  {
   "cell_type": "markdown",
   "metadata": {},
   "source": [
    "**Orthogonal Eigen vectors will have Dot product as zero**"
   ]
  },
  {
   "cell_type": "code",
   "execution_count": 63,
   "metadata": {},
   "outputs": [
    {
     "name": "stdout",
     "output_type": "stream",
     "text": [
      "\n",
      " vec1.vec2 = 0.0\n",
      "\n",
      " vec2.vec3 = 0.0\n",
      "\n",
      " vec3.vec1 = 0.0\n"
     ]
    }
   ],
   "source": [
    "vec1 = eigen_vec[0]\n",
    "vec2 = eigen_vec[1]\n",
    "vec3 = eigen_vec[2]\n",
    "\n",
    "print(\"\\n vec1.vec2 = %s\"%(abs(round(np.dot(vec1,vec2),1))))\n",
    "print(\"\\n vec2.vec3 = %s\"%(abs(round(np.dot(vec2,vec3),1))))\n",
    "print(\"\\n vec3.vec1 = %s\"%(abs(round(np.dot(vec3,vec1),1))))"
   ]
  },
  {
   "cell_type": "markdown",
   "metadata": {},
   "source": [
    "# Numerical Programming"
   ]
  },
  {
   "cell_type": "markdown",
   "metadata": {},
   "source": [
    "## 8\n",
    "**[10 points]** Loading data and gathering insights from a real dataset\n",
    "\n",
    "**Data**. The data for this problem can be found in the `data` subfolder in the `assignments` folder on [github](https://github.com/kylebradbury/ids705). The filename is `egrid2016.xlsx`. This dataset is the Environmental Protection Agency's (EPA) [Emissions & Generation Resource Integrated Database (eGRID)](https://www.epa.gov/energy/emissions-generation-resource-integrated-database-egrid) containing information about all power plants in the United States, the amount of generation they produce, what fuel they use, the location of the plant, and many more quantities. We'll be using a subset of those data.\n",
    "\n",
    "The fields we'll be using include:\t\t\t\t\t\n",
    "    \n",
    "|field    |description|\n",
    "|:-----   |:-----|\n",
    "|SEQPLT16 |eGRID2016 Plant file sequence number (the index)| \n",
    "|PSTATABB |Plant state abbreviation|\n",
    "|PNAME    |Plant name |\n",
    "|LAT      |Plant latitude |\n",
    "|LON      |Plant longitude|\n",
    "|PLPRMFL  |Plant primary fuel |\n",
    "|CAPFAC   |Plant capacity factor |\n",
    "|NAMEPCAP |Plant nameplate capacity (Megawatts MW)|\n",
    "|PLNGENAN |Plant annual net generation (Megawatt-hours MWh)|\n",
    "|PLCO2EQA |Plant annual CO2 equivalent emissions (tons)|\n",
    "\n",
    "For more details on the data, you can refer to the [eGrid technical documents](https://www.epa.gov/sites/production/files/2018-02/documents/egrid2016_technicalsupportdocument_0.pdf). For example, you may want to review page 45 and the section \"Plant Primary Fuel (PLPRMFL)\", which gives the full names of the fuel types including WND for wind, NG for natural gas, BIT for Bituminous coal, etc.\n",
    "\n",
    "There also are a couple of \"gotchas\" to watch out for with this dataset:\n",
    "- The headers are on the second row and you'll want to ignore the first row (they're more detailed descriptions of the headers).\n",
    "- NaN values represent blanks in the data. These will appear regularly in real-world data, so getting experience working with it will be important.\n",
    "\n",
    "**Your objective**. For this dataset, your goal is answer the following questions about electricity generation in the United States:\n",
    "\n",
    "**(a)** Which plant has generated the most energy (measured in MWh)?\n",
    "\n",
    "**(b)** What is the name of the northern-most power plant in the United States?\n",
    "\n",
    "**(c)** What is the state where the northern-most power plant in the United States is located?\n",
    "\n",
    "**(d)** Plot a histogram of the amount of energy produced by each fuel for the plant. \n",
    "\n",
    "**(e)** From the plot in (e), which fuel for generation produces the most energy (MWh) in the United States?"
   ]
  },
  {
   "cell_type": "markdown",
   "metadata": {},
   "source": [
    "**ANSWER**"
   ]
  },
  {
   "cell_type": "code",
   "execution_count": 37,
   "metadata": {},
   "outputs": [],
   "source": [
    "#Reading egrid file\n",
    "\n",
    "import pandas as pd\n",
    "df = pd.read_excel(\"egrid2016.xlsx\", skiprows=1, na_values= 'NaN')"
   ]
  },
  {
   "cell_type": "code",
   "execution_count": 38,
   "metadata": {},
   "outputs": [
    {
     "data": {
      "text/html": [
       "<div>\n",
       "<style scoped>\n",
       "    .dataframe tbody tr th:only-of-type {\n",
       "        vertical-align: middle;\n",
       "    }\n",
       "\n",
       "    .dataframe tbody tr th {\n",
       "        vertical-align: top;\n",
       "    }\n",
       "\n",
       "    .dataframe thead th {\n",
       "        text-align: right;\n",
       "    }\n",
       "</style>\n",
       "<table border=\"1\" class=\"dataframe\">\n",
       "  <thead>\n",
       "    <tr style=\"text-align: right;\">\n",
       "      <th></th>\n",
       "      <th>SEQPLT16</th>\n",
       "      <th>PSTATABB</th>\n",
       "      <th>PNAME</th>\n",
       "      <th>LAT</th>\n",
       "      <th>LON</th>\n",
       "      <th>PLPRMFL</th>\n",
       "      <th>CAPFAC</th>\n",
       "      <th>NAMEPCAP</th>\n",
       "      <th>PLNGENAN</th>\n",
       "      <th>PLCO2EQA</th>\n",
       "    </tr>\n",
       "  </thead>\n",
       "  <tbody>\n",
       "    <tr>\n",
       "      <th>0</th>\n",
       "      <td>1</td>\n",
       "      <td>AK</td>\n",
       "      <td>7-Mile Ridge Wind Project</td>\n",
       "      <td>63.210689</td>\n",
       "      <td>-143.247156</td>\n",
       "      <td>WND</td>\n",
       "      <td>NaN</td>\n",
       "      <td>1.8</td>\n",
       "      <td>NaN</td>\n",
       "      <td>NaN</td>\n",
       "    </tr>\n",
       "    <tr>\n",
       "      <th>1</th>\n",
       "      <td>2</td>\n",
       "      <td>AK</td>\n",
       "      <td>Agrium Kenai Nitrogen Operations</td>\n",
       "      <td>60.673200</td>\n",
       "      <td>-151.378400</td>\n",
       "      <td>NG</td>\n",
       "      <td>NaN</td>\n",
       "      <td>21.6</td>\n",
       "      <td>NaN</td>\n",
       "      <td>NaN</td>\n",
       "    </tr>\n",
       "    <tr>\n",
       "      <th>2</th>\n",
       "      <td>3</td>\n",
       "      <td>AK</td>\n",
       "      <td>Alakanuk</td>\n",
       "      <td>62.683300</td>\n",
       "      <td>-164.654400</td>\n",
       "      <td>DFO</td>\n",
       "      <td>0.05326</td>\n",
       "      <td>2.6</td>\n",
       "      <td>1213.001</td>\n",
       "      <td>1049.863</td>\n",
       "    </tr>\n",
       "    <tr>\n",
       "      <th>3</th>\n",
       "      <td>4</td>\n",
       "      <td>AK</td>\n",
       "      <td>Allison Creek Hydro</td>\n",
       "      <td>61.084444</td>\n",
       "      <td>-146.353333</td>\n",
       "      <td>WAT</td>\n",
       "      <td>0.01547</td>\n",
       "      <td>6.5</td>\n",
       "      <td>881.000</td>\n",
       "      <td>0.000</td>\n",
       "    </tr>\n",
       "    <tr>\n",
       "      <th>4</th>\n",
       "      <td>5</td>\n",
       "      <td>AK</td>\n",
       "      <td>Ambler</td>\n",
       "      <td>67.087980</td>\n",
       "      <td>-157.856719</td>\n",
       "      <td>DFO</td>\n",
       "      <td>0.13657</td>\n",
       "      <td>1.1</td>\n",
       "      <td>1315.999</td>\n",
       "      <td>1087.881</td>\n",
       "    </tr>\n",
       "  </tbody>\n",
       "</table>\n",
       "</div>"
      ],
      "text/plain": [
       "   SEQPLT16 PSTATABB                             PNAME        LAT         LON  \\\n",
       "0         1       AK         7-Mile Ridge Wind Project  63.210689 -143.247156   \n",
       "1         2       AK  Agrium Kenai Nitrogen Operations  60.673200 -151.378400   \n",
       "2         3       AK                          Alakanuk  62.683300 -164.654400   \n",
       "3         4       AK               Allison Creek Hydro  61.084444 -146.353333   \n",
       "4         5       AK                            Ambler  67.087980 -157.856719   \n",
       "\n",
       "  PLPRMFL   CAPFAC  NAMEPCAP  PLNGENAN  PLCO2EQA  \n",
       "0     WND      NaN       1.8       NaN       NaN  \n",
       "1      NG      NaN      21.6       NaN       NaN  \n",
       "2     DFO  0.05326       2.6  1213.001  1049.863  \n",
       "3     WAT  0.01547       6.5   881.000     0.000  \n",
       "4     DFO  0.13657       1.1  1315.999  1087.881  "
      ]
     },
     "execution_count": 38,
     "metadata": {},
     "output_type": "execute_result"
    }
   ],
   "source": [
    "df.head()"
   ]
  },
  {
   "cell_type": "markdown",
   "metadata": {},
   "source": [
    "**(a)**"
   ]
  },
  {
   "cell_type": "code",
   "execution_count": 39,
   "metadata": {},
   "outputs": [
    {
     "name": "stdout",
     "output_type": "stream",
     "text": [
      "\n",
      "Plant with most energy 32377476.999 MWh generated is : Palo Verde\n"
     ]
    }
   ],
   "source": [
    "print(\"\\nPlant with most energy %s MWh generated is : %s\"%(df.iloc[df['PLNGENAN'].idxmax(),8],df.iloc[df['PLNGENAN'].idxmax(),2]))"
   ]
  },
  {
   "cell_type": "markdown",
   "metadata": {},
   "source": [
    "**(b)**"
   ]
  },
  {
   "cell_type": "code",
   "execution_count": 40,
   "metadata": {},
   "outputs": [
    {
     "name": "stdout",
     "output_type": "stream",
     "text": [
      "\n",
      "Northern-most plant in US is : Barrow\n"
     ]
    }
   ],
   "source": [
    "print(\"\\nNorthern-most plant in US is : %s\"%(df.iloc[df['LAT'].idxmax(),2]))"
   ]
  },
  {
   "cell_type": "markdown",
   "metadata": {},
   "source": [
    "**(c)**"
   ]
  },
  {
   "cell_type": "code",
   "execution_count": 41,
   "metadata": {},
   "outputs": [
    {
     "name": "stdout",
     "output_type": "stream",
     "text": [
      "\n",
      "State of the Northern-most plant in US is : AK\n"
     ]
    }
   ],
   "source": [
    "print(\"\\nState of the Northern-most plant in US is : %s\"%(df.iloc[df['LAT'].idxmax(),1]))"
   ]
  },
  {
   "cell_type": "markdown",
   "metadata": {},
   "source": [
    "**(d)**"
   ]
  },
  {
   "cell_type": "code",
   "execution_count": 51,
   "metadata": {},
   "outputs": [
    {
     "data": {
      "image/png": "[encoded data removed]",
      "text/plain": [
       "<Figure size 432x288 with 1 Axes>"
      ]
     },
     "metadata": {
      "needs_background": "light"
     },
     "output_type": "display_data"
    }
   ],
   "source": [
    "import matplotlib.pyplot as plt\n",
    "%matplotlib inline\n",
    "fuel_gen = df.groupby('PLPRMFL')[\"PLNGENAN\"].sum().reset_index()\n",
    "fuel_gen = fuel_gen.sort_values('PLNGENAN', ascending=True)\n",
    "x= fuel_gen[\"PLPRMFL\"]\n",
    "y= fuel_gen[\"PLNGENAN\"]\n",
    "plt.barh(x,y)\n",
    "plt.title(\"Energy generation for different Fuel\")\n",
    "plt.xlabel(\"Total Energy Generated\")\n",
    "plt.ylabel(\"Fuel Type\")\n",
    "plt.rcParams[\"figure.figsize\"] = (10,10)\n",
    "plt.rcParams.update({'font.size': 10})\n",
    "plt.show()\n"
   ]
  },
  {
   "cell_type": "markdown",
   "metadata": {},
   "source": [
    "**(e)**"
   ]
  },
  {
   "cell_type": "code",
   "execution_count": 52,
   "metadata": {},
   "outputs": [
    {
     "name": "stdout",
     "output_type": "stream",
     "text": [
      "\n",
      "Fuel used in producing most of the energy : NG\n"
     ]
    }
   ],
   "source": [
    "print(\"\\nFuel used in producing most of the energy : %s\"%(df.groupby('PLPRMFL').PLNGENAN.agg('sum').idxmax()))"
   ]
  },
  {
   "cell_type": "markdown",
   "metadata": {},
   "source": [
    "## 9\n",
    "**[8 points]** Speed comparison between vectorized and non-vectorized code. Begin by creating an array of 10 million random numbers using the numpy random.randn module. Compute the sum of the squares first in a for loop, then using Numpy's `dot` module. Time how long it takes to compute each and report the results and report the output. How many times faster is the vectorized code than the for loop approach?\n",
    "\n",
    "*Note: all code should be well commented, properly formatted, and your answers should be output using the `print()` function as follows (where the # represents your answers, to a reasonable precision):\n",
    "\n",
    "`Time [sec] (non-vectorized): 11.448`\n",
    "\n",
    "`Time [sec] (vectorized):     0.0066`\n",
    "\n",
    "`The vectorized code is 1,730 times faster than the vectorized code`"
   ]
  },
  {
   "cell_type": "markdown",
   "metadata": {},
   "source": [
    "**ANSWER**"
   ]
  },
  {
   "cell_type": "code",
   "execution_count": 4,
   "metadata": {},
   "outputs": [],
   "source": [
    "rand_list = np.random.rand(10000000)"
   ]
  },
  {
   "cell_type": "code",
   "execution_count": 8,
   "metadata": {},
   "outputs": [
    {
     "name": "stdout",
     "output_type": "stream",
     "text": [
      "\n",
      "Execution time 11.448315620422363 seconds\n",
      "\n",
      "Sum of Squares by for loop 3332961.64030092 \n"
     ]
    }
   ],
   "source": [
    "import time\n",
    "st = time.time()\n",
    "sum_of_Sq = 0\n",
    "for i in range(len(rand_list)):\n",
    "    sum_of_Sq = sum_of_Sq + rand_list[i]**2\n",
    "\n",
    "print(\"\\nExecution time %s seconds\" %(time.time()-st))\n",
    "print(\"\\nSum of Squares by for loop %s \"%(sum_of_Sq))"
   ]
  },
  {
   "cell_type": "code",
   "execution_count": 9,
   "metadata": {},
   "outputs": [
    {
     "name": "stdout",
     "output_type": "stream",
     "text": [
      "\n",
      "Execution time 0.006653547286987305 seconds\n",
      "\n",
      "Sum of Squares by DOT 3332961.6403007563 \n"
     ]
    }
   ],
   "source": [
    "st = time.time()\n",
    "dot_sum = np.sum(np.dot(rand_list,rand_list))\n",
    "\n",
    "print(\"\\nExecution time %s seconds\" %(time.time()-st))\n",
    "print(\"\\nSum of Squares by DOT %s \"%(dot_sum))"
   ]
  },
  {
   "cell_type": "markdown",
   "metadata": {},
   "source": [
    "## 10\n",
    "**[10 points]** One popular Agile development framework is Scrum (a paradigm recommended for data science projects). It emphasizes the continual evolution of code for projects, becoming progressively better, but starting with a quickly developed minimum viable product. This often means that code written early on is not optimized, and that's a good thing - it's best to get it to work first before optimizing. Imagine that you wrote the following code during a sprint towards getting an end-to-end system working. Vectorize the following code and show the difference in speed between the current implementation and a vectorized version.\n",
    "\n",
    "The function below computes the function $f(x,y) = x^2 - 2 y^2$ and determines whether this quantity is above or below a given threshold, `thresh=0`. This is done for $x,y \\in \\{-4,4\\}$, over a 2,000-by-2,000 grid covering that domain.\n",
    "\n",
    "(a) Vectorize this code and demonstrate (as in the last exercise) the speed increase through vectorization and (b) plot the resulting data - both the function $f(x,y)$ and the thresholded output - using [`imshow`](https://matplotlib.org/api/_as_gen/matplotlib.pyplot.imshow.html?highlight=matplotlib%20pyplot%20imshow#matplotlib.pyplot.imshow) from `matplotlib`.\n",
    "\n",
    "*Hint: look at the `numpy` [`meshgrid`](https://docs.scipy.org/doc/numpy-1.13.0/reference/generated/numpy.meshgrid.html) documentation*"
   ]
  },
  {
   "cell_type": "markdown",
   "metadata": {},
   "source": [
    "**ANSWER**"
   ]
  },
  {
   "cell_type": "code",
   "execution_count": 27,
   "metadata": {},
   "outputs": [
    {
     "name": "stdout",
     "output_type": "stream",
     "text": [
      "\n",
      "Time Elapased for Non-Vectorized : 10.1755 seconds\n",
      "\n",
      "Time Elapased for Vecotrized: 0.1747 seconds\n"
     ]
    }
   ],
   "source": [
    "import numpy as np\n",
    "import time\n",
    "import matplotlib.pyplot as plt\n",
    "\n",
    "nvalues = 2000\n",
    "xvalues = np.linspace(-4,4,nvalues)\n",
    "yvalues = np.linspace(-4,4,nvalues)\n",
    "thresh  = 0\n",
    "\n",
    "# Nonvectorized implementation\n",
    "\n",
    "t0 = time.time()\n",
    "f = np.zeros((nvalues,nvalues))\n",
    "f_thresholded = np.zeros((nvalues,nvalues))\n",
    "for ix, x in enumerate(xvalues):\n",
    "    for iy, y in enumerate(yvalues):\n",
    "        f[ix,iy]             = x**2 - 2 * y**2\n",
    "        f_thresholded[ix,iy] = f[ix,iy] > thresh\n",
    "t1 = time.time()\n",
    "time_nonvectorized = t1 - t0\n",
    "\n",
    "print(\"\\nTime Elapased for Non-Vectorized : %s seconds\"% round(time_nonvectorized,4))    \n",
    "\n",
    "# Vectorized implementation\n",
    "\n",
    "xx, yy = np.meshgrid(xvalues,yvalues)\n",
    "\n",
    "\n",
    "t2 = time.time()\n",
    "vect_f_threshold = np.zeros((nvalues,nvalues))\n",
    "vect_f = np.zeros((nvalues,nvalues))\n",
    "vect_f = xx.T**2 - 2 * yy.T**2\n",
    "vect_f_threshold = vect_f > thresh\n",
    "t3 = time.time()\n",
    "\n",
    "print(\"\\nTime Elapased for Vecotrized: %s seconds\"% round((t3-t2),4))    \n",
    "\n",
    "\n",
    "# Vectorization speed performance results\n",
    "\n",
    "# Plot the function f(x,y)"
   ]
  },
  {
   "cell_type": "markdown",
   "metadata": {},
   "source": [
    "**(a)**"
   ]
  },
  {
   "cell_type": "markdown",
   "metadata": {},
   "source": [
    "`Time [sec] (non-vectorized): 10.1755`\n",
    "\n",
    "`Time [sec] (vectorized):     0.1747`\n",
    "\n",
    "`The vectorized code is 60 times faster than the vectorized code`"
   ]
  },
  {
   "cell_type": "markdown",
   "metadata": {},
   "source": [
    "**(b)**"
   ]
  },
  {
   "cell_type": "code",
   "execution_count": 34,
   "metadata": {},
   "outputs": [
    {
     "data": {
      "image/png": "[encoded data removed]",
      "text/plain": [
       "<Figure size 360x360 with 1 Axes>"
      ]
     },
     "metadata": {
      "needs_background": "light"
     },
     "output_type": "display_data"
    }
   ],
   "source": [
    "#plotting function \n",
    "\n",
    "plt.imshow(xx.T**2 - 2 * yy.T**2)\n",
    "plt.title(\"X^2 - 2y^2\")\n",
    "plt.xlabel(\"X values\")\n",
    "plt.ylabel(\"Y values\")\n",
    "plt.rcParams[\"figure.figsize\"] = (5,5)\n",
    "plt.show()"
   ]
  },
  {
   "cell_type": "code",
   "execution_count": 35,
   "metadata": {},
   "outputs": [
    {
     "data": {
      "image/png": "[encoded data removed]",
      "text/plain": [
       "<Figure size 360x360 with 1 Axes>"
      ]
     },
     "metadata": {
      "needs_background": "light"
     },
     "output_type": "display_data"
    }
   ],
   "source": [
    "# plottting output \n",
    "\n",
    "plt.imshow(vect_f_threshold)\n",
    "plt.title(\"Thresholded Output\")\n",
    "plt.xlabel(\"X values\")\n",
    "plt.ylabel(\"Y values\")\n",
    "plt.show()"
   ]
  },
  {
   "cell_type": "markdown",
   "metadata": {},
   "source": [
    "## 11\n",
    "**[10 points]** This exercise will walk through some basic numerical programming exercises.\n",
    "1. Synthesize $n=10^4$ normally distributed data points with mean $\\mu=2$ and a standard deviation of $\\sigma=1$. Call these observations from a random variable $X$, and call the vector of observations that you generate, $\\textbf{x}$.\n",
    "2. Calculate the mean and standard deviation of $\\textbf{x}$ to validate (1) and provide the result to a precision of four significant figures.\n",
    "3. Plot a histogram of the data in $\\textbf{x}$ with 30 bins\n",
    "4. What is the 90th percentile of $\\textbf{x}$? The 90th percentile is the value below which 90% of observations can be found.\n",
    "5. What is the 99th percentile of $\\textbf{x}$?\n",
    "6. Now synthesize $n=10^4$ normally distributed data points with mean $\\mu=0$ and a standard deviation of $\\sigma=3$. Call these observations from a random variable $Y$, and call the vector of observations that you generate, $\\textbf{y}$.\n",
    "7. Create a new figure and plot the histogram of the data in $\\textbf{y}$ on the same axes with the histogram of $\\textbf{x}$, so that both histograms can be seen and compared.\n",
    "8. Using the observations from $\\textbf{x}$ and $\\textbf{y}$, estimate $E[XY]$"
   ]
  },
  {
   "cell_type": "markdown",
   "metadata": {},
   "source": [
    "**ANSWER**"
   ]
  },
  {
   "cell_type": "markdown",
   "metadata": {},
   "source": [
    "**1.**"
   ]
  },
  {
   "cell_type": "code",
   "execution_count": 74,
   "metadata": {},
   "outputs": [],
   "source": [
    "X = [2,1,10000]\n",
    "x = np.random.normal(X[0],X[1],X[2])"
   ]
  },
  {
   "cell_type": "markdown",
   "metadata": {},
   "source": [
    "**2.**"
   ]
  },
  {
   "cell_type": "code",
   "execution_count": 75,
   "metadata": {},
   "outputs": [
    {
     "name": "stdout",
     "output_type": "stream",
     "text": [
      "Mean of x 1.9928\n",
      "\n",
      "Standard Dev of x 1.0005\n"
     ]
    }
   ],
   "source": [
    "print(\"Mean of x %s\"%(round(np.mean(x),4)))\n",
    "print(\"\\nStandard Dev of x %s\"%(round(np.std(x),4)))"
   ]
  },
  {
   "cell_type": "markdown",
   "metadata": {},
   "source": [
    "**3.**"
   ]
  },
  {
   "cell_type": "code",
   "execution_count": 89,
   "metadata": {},
   "outputs": [
    {
     "data": {
      "image/png": "[encoded data removed]",
      "text/plain": [
       "<Figure size 360x360 with 1 Axes>"
      ]
     },
     "metadata": {
      "needs_background": "light"
     },
     "output_type": "display_data"
    }
   ],
   "source": [
    "plt.hist(x, 30, label=\"x\")\n",
    "plt.legend(loc=\"upper right\")\n",
    "plt.title(\"Distribution of X\")\n",
    "plt.xlabel(\"Values\")\n",
    "plt.ylabel(\"Frequency\")\n",
    "plt.show()"
   ]
  },
  {
   "cell_type": "markdown",
   "metadata": {},
   "source": [
    "**4.**"
   ]
  },
  {
   "cell_type": "code",
   "execution_count": 77,
   "metadata": {},
   "outputs": [
    {
     "name": "stdout",
     "output_type": "stream",
     "text": [
      "90th percentile of x is 3.2986848043066996\n"
     ]
    }
   ],
   "source": [
    "print(\"90th percentile of x is %s\"%(np.percentile(x,90)))"
   ]
  },
  {
   "cell_type": "markdown",
   "metadata": {},
   "source": [
    "**5.**"
   ]
  },
  {
   "cell_type": "code",
   "execution_count": 78,
   "metadata": {},
   "outputs": [
    {
     "name": "stdout",
     "output_type": "stream",
     "text": [
      "99th percentile of x is 4.3327700459520155\n"
     ]
    }
   ],
   "source": [
    "print(\"99th percentile of x is %s\"%(np.percentile(x,99)))"
   ]
  },
  {
   "cell_type": "markdown",
   "metadata": {},
   "source": [
    "**6.**"
   ]
  },
  {
   "cell_type": "code",
   "execution_count": 79,
   "metadata": {},
   "outputs": [],
   "source": [
    "Y = [0,3,10000]\n",
    "y = np.random.normal(Y[0],Y[1],Y[2])"
   ]
  },
  {
   "cell_type": "markdown",
   "metadata": {},
   "source": [
    "**7.**"
   ]
  },
  {
   "cell_type": "code",
   "execution_count": 90,
   "metadata": {},
   "outputs": [
    {
     "data": {
      "image/png": "[encoded data removed]",
      "text/plain": [
       "<Figure size 360x360 with 1 Axes>"
      ]
     },
     "metadata": {
      "needs_background": "light"
     },
     "output_type": "display_data"
    }
   ],
   "source": [
    "plt.hist(y, 30, label=\"y\", density=True)\n",
    "plt.hist(x, 30, label=\"x\", density=True)\n",
    "plt.legend(loc='upper right')\n",
    "plt.title(\"Distribution of X and Y\")\n",
    "plt.xlabel(\"Values\")\n",
    "plt.ylabel(\"Frequency\")\n",
    "plt.rcParams[\"figure.figsize\"] = (5,5)\n",
    "plt.show()"
   ]
  },
  {
   "cell_type": "markdown",
   "metadata": {},
   "source": [
    "**8.**"
   ]
  },
  {
   "cell_type": "code",
   "execution_count": 25,
   "metadata": {},
   "outputs": [
    {
     "name": "stdout",
     "output_type": "stream",
     "text": [
      "\n",
      "E[XY] is 0.0721982793948545\n"
     ]
    }
   ],
   "source": [
    "print(\"\\nE[XY] is %s\"%(np.mean(x)*np.mean(y)))"
   ]
  },
  {
   "cell_type": "markdown",
   "metadata": {},
   "source": [
    "# Version Control via Git"
   ]
  },
  {
   "cell_type": "markdown",
   "metadata": {},
   "source": [
    "## 12\n",
    "**[1 point]** You will need to use Git to submit assignments and in the course projects and is generally a version control and collaboration tool. You can even use some Git repositories (e.g. Github) as hosts for website, such as with the [course website](https://kylebradbury.github.io/ids705/index.html). \n",
    "\n",
    "Complete the [Atlassian Git tutorial](https://www.atlassian.com/git/tutorials/what-is-version-control), specifically the following listed sections. Try each concept that's presented. For this tutorial, instead of using BitBucket as your remote repository host, you may use your preferred platform such as [Github](https://github.com/) or [Duke's Gitlab](https://gitlab.oit.duke.edu/users/sign_in).\n",
    "1. [What is version control](https://www.atlassian.com/git/tutorials/what-is-version-control)\n",
    "2. [What is Git](https://www.atlassian.com/git/tutorials/what-is-git)\n",
    "3. [Install Git](https://www.atlassian.com/git/tutorials/install-git)\n",
    "4. [Setting up a repository](https://www.atlassian.com/git/tutorials/install-git)\n",
    "5. [Saving changes](https://www.atlassian.com/git/tutorials/saving-changes)\n",
    "6. [Inspecting a repository](https://www.atlassian.com/git/tutorials/inspecting-a-repository)\n",
    "7. [Undoing changes](https://www.atlassian.com/git/tutorials/undoing-changes)\n",
    "8. [Rewriting history](https://www.atlassian.com/git/tutorials/rewriting-history)\n",
    "9. [Syncing](https://www.atlassian.com/git/tutorials/syncing)\n",
    "10. [Making a pull request](https://www.atlassian.com/git/tutorials/making-a-pull-request)\n",
    "11. [Using branches](https://www.atlassian.com/git/tutorials/using-branches)\n",
    "12. [Comparing workflows](https://www.atlassian.com/git/tutorials/comparing-workflows)\n",
    "\n",
    "I also have created two videos on the topic to help you understand some of these concepts: [Git basics](https://www.youtube.com/watch?v=fBCwfoBr2ng) and a [step-by-step tutorial](https://www.youtube.com/watch?v=nH7qJHx-h5s).\n",
    "\n",
    "For your answer, affirm that you *either* completed the tutorial or have previous experience with all of the concepts above. Do this by typing your name below and selecting the situation that applies from the two options in brackets."
   ]
  },
  {
   "cell_type": "markdown",
   "metadata": {},
   "source": [
    "**ANSWER**\n",
    "\n",
    "*I, [**Akshay Punwatkar**], affirm that I have [**completed the above tutorial**]*"
   ]
  },
  {
   "cell_type": "markdown",
   "metadata": {},
   "source": [
    "# Exploratory Data Analysis\n",
    "## 13\n",
    "**[20 points]** Here you'll bring together some of the individual skills that you demonstrated above and create a Jupyter notebook based blog post on data analysis.\n",
    "\n",
    "1. Find a dataset that interests you and relates to a question or problem that you find intriguing\n",
    "2. Using a Jupyter notebook, describe the dataset, the source of the data, and the reason the dataset was of interest.\n",
    "3. Check the data and see if they need to be cleaned: are there missing values? Are there clearly erroneous values? Do two tables need to be merged together? Clean the data so it can be visualized.\n",
    "3. Plot the data, demonstrating interesting features that you discover. Are there any relationships between variables that were surprising or patterns that emerged? Please exercise creativity and curiosity in your plots.\n",
    "4. What insights are you able to take away from exploring the data? Is there a reason why analyzing the dataset you chose is particularly interesting or important? Summarize this as if your target audience was the readership of a major news organization - boil down your findings in a way that is accessible, but still accurate.\n",
    "\n",
    "Here your analysis will evaluated based on:\n",
    "1. Data cleaning: did you look for and work to resolve issues in the data?\n",
    "2. Quality of data exploration: did you provide plots demonstrating interesting aspects of the data?\n",
    "3. Interpretation: Did you clearly explain your insights? Restating the data, alone, is not interpretation.\n",
    "5. Professionalism: Was this work done in a way that exhibits professionalism through clarity, organization, high quality figures and plots, and meaningful descriptions?"
   ]
  },
  {
   "cell_type": "markdown",
   "metadata": {},
   "source": [
    "**ANSWER**"
   ]
  },
  {
   "cell_type": "markdown",
   "metadata": {},
   "source": [
    "## H1-B work visa application data for 2018\n",
    "\n",
    "### Introduction "
   ]
  },
  {
   "cell_type": "markdown",
   "metadata": {},
   "source": [
    "In the recent times, immigrations has been a major topic of discussion in the United States. Alien workers working in the US under work visa has been one of the primary contributor in the immigration. As an international students purusing Masters in United States, it's about time I'll be a part this immigration process.    \n",
    "    \n",
    "The following anaylsis was performed on the dataset obtained from the website of *Foreign Labour Certification Datacenter* (OFLC), which keeps the track of all the visa applications regarding employement of foregin nationals in United States.\n",
    "H1B, which is ann employment-based, non-immigrant visa for temporary workers is one of the most common US work visa. The scope of this analysis is limited to the **H1B applications for the year 2018**.     \n",
    "      \n",
    "The data can be obtained from the following URL : https://www.foreignlaborcert.doleta.gov/performancedata.cfm#dis  \n",
    "     \n",
    "    \n"
   ]
  },
  {
   "cell_type": "markdown",
   "metadata": {},
   "source": [
    "### Data Description"
   ]
  },
  {
   "cell_type": "markdown",
   "metadata": {},
   "source": [
    "The dataset comprised 654,287 observations with 20 features. The features comprised of the information about the H1B visa applicant and the employer sponsoring the applicant. The data also contained information about offered wage and the work location of the applicant. "
   ]
  },
  {
   "cell_type": "markdown",
   "metadata": {},
   "source": [
    "Most of the features were complete except for a couple which had ~15,000 missing data. However, the data didn't had any erroneous data values. "
   ]
  },
  {
   "cell_type": "code",
   "execution_count": 1,
   "metadata": {},
   "outputs": [],
   "source": [
    "import pandas as pd\n",
    "import numpy as np\n",
    "import matplotlib.pyplot as plt\n",
    "plt.style.use('ggplot')\n",
    "h1bData = pd.read_excel(\"H-1B_Disclosure_Data_FY2018_EOY.xlsx\")"
   ]
  },
  {
   "cell_type": "code",
   "execution_count": 4,
   "metadata": {},
   "outputs": [
    {
     "data": {
      "text/html": [
       "<div>\n",
       "<style scoped>\n",
       "    .dataframe tbody tr th:only-of-type {\n",
       "        vertical-align: middle;\n",
       "    }\n",
       "\n",
       "    .dataframe tbody tr th {\n",
       "        vertical-align: top;\n",
       "    }\n",
       "\n",
       "    .dataframe thead th {\n",
       "        text-align: right;\n",
       "    }\n",
       "</style>\n",
       "<table border=\"1\" class=\"dataframe\">\n",
       "  <thead>\n",
       "    <tr style=\"text-align: right;\">\n",
       "      <th></th>\n",
       "      <th>CASE_STATUS</th>\n",
       "      <th>VISA_CLASS</th>\n",
       "      <th>EMPLOYMENT_START_DATE</th>\n",
       "      <th>EMPLOYMENT_END_DATE</th>\n",
       "      <th>EMPLOYER_NAME</th>\n",
       "      <th>EMPLOYER_STATE</th>\n",
       "      <th>EMPLOYER_COUNTRY</th>\n",
       "      <th>AGENT_REPRESENTING_EMPLOYER</th>\n",
       "      <th>SOC_NAME</th>\n",
       "      <th>TOTAL_WORKERS</th>\n",
       "      <th>FULL_TIME_POSITION</th>\n",
       "      <th>PREVAILING_WAGE</th>\n",
       "      <th>PW_UNIT_OF_PAY</th>\n",
       "      <th>PW_SOURCE_YEAR</th>\n",
       "      <th>WAGE_RATE_OF_PAY_FROM</th>\n",
       "      <th>WAGE_RATE_OF_PAY_TO</th>\n",
       "      <th>WAGE_UNIT_OF_PAY</th>\n",
       "      <th>H1B_DEPENDENT</th>\n",
       "      <th>WILLFUL_VIOLATOR</th>\n",
       "      <th>WORKSITE_STATE</th>\n",
       "    </tr>\n",
       "  </thead>\n",
       "  <tbody>\n",
       "    <tr>\n",
       "      <th>0</th>\n",
       "      <td>CERTIFIED</td>\n",
       "      <td>H-1B</td>\n",
       "      <td>2018-07-28</td>\n",
       "      <td>2021-07-27</td>\n",
       "      <td>MICROSOFT CORPORATION</td>\n",
       "      <td>WA</td>\n",
       "      <td>USA</td>\n",
       "      <td>N</td>\n",
       "      <td>SOFTWARE DEVELOPERS, APPLICATIONS</td>\n",
       "      <td>1</td>\n",
       "      <td>Y</td>\n",
       "      <td>112549.0</td>\n",
       "      <td>Year</td>\n",
       "      <td>2017.0</td>\n",
       "      <td>143915.0</td>\n",
       "      <td>0.0</td>\n",
       "      <td>Year</td>\n",
       "      <td>N</td>\n",
       "      <td>N</td>\n",
       "      <td>WA</td>\n",
       "    </tr>\n",
       "    <tr>\n",
       "      <th>1</th>\n",
       "      <td>CERTIFIED</td>\n",
       "      <td>H-1B</td>\n",
       "      <td>2017-11-06</td>\n",
       "      <td>2020-11-06</td>\n",
       "      <td>ERNST &amp; YOUNG U.S. LLP</td>\n",
       "      <td>NJ</td>\n",
       "      <td>USA</td>\n",
       "      <td>Y</td>\n",
       "      <td>ACCOUNTANTS AND AUDITORS</td>\n",
       "      <td>1</td>\n",
       "      <td>Y</td>\n",
       "      <td>79976.0</td>\n",
       "      <td>Year</td>\n",
       "      <td>2017.0</td>\n",
       "      <td>100000.0</td>\n",
       "      <td>0.0</td>\n",
       "      <td>Year</td>\n",
       "      <td>N</td>\n",
       "      <td>N</td>\n",
       "      <td>CA</td>\n",
       "    </tr>\n",
       "    <tr>\n",
       "      <th>2</th>\n",
       "      <td>CERTIFIED</td>\n",
       "      <td>H-1B</td>\n",
       "      <td>2018-09-10</td>\n",
       "      <td>2021-09-09</td>\n",
       "      <td>LOGIXHUB LLC</td>\n",
       "      <td>TX</td>\n",
       "      <td>USA</td>\n",
       "      <td>N</td>\n",
       "      <td>DATABASE ADMINISTRATORS</td>\n",
       "      <td>1</td>\n",
       "      <td>Y</td>\n",
       "      <td>77792.0</td>\n",
       "      <td>Year</td>\n",
       "      <td>2018.0</td>\n",
       "      <td>78240.0</td>\n",
       "      <td>0.0</td>\n",
       "      <td>Year</td>\n",
       "      <td>N</td>\n",
       "      <td>N</td>\n",
       "      <td>TX</td>\n",
       "    </tr>\n",
       "    <tr>\n",
       "      <th>3</th>\n",
       "      <td>CERTIFIED</td>\n",
       "      <td>H-1B</td>\n",
       "      <td>2018-09-10</td>\n",
       "      <td>2021-09-09</td>\n",
       "      <td>HEXAWARE TECHNOLOGIES, INC.</td>\n",
       "      <td>NJ</td>\n",
       "      <td>USA</td>\n",
       "      <td>Y</td>\n",
       "      <td>SOFTWARE DEVELOPERS, APPLICATIONS</td>\n",
       "      <td>5</td>\n",
       "      <td>Y</td>\n",
       "      <td>84406.0</td>\n",
       "      <td>Year</td>\n",
       "      <td>2017.0</td>\n",
       "      <td>84406.0</td>\n",
       "      <td>85000.0</td>\n",
       "      <td>Year</td>\n",
       "      <td>Y</td>\n",
       "      <td>N</td>\n",
       "      <td>DE</td>\n",
       "    </tr>\n",
       "    <tr>\n",
       "      <th>4</th>\n",
       "      <td>CERTIFIED</td>\n",
       "      <td>H-1B</td>\n",
       "      <td>2018-09-07</td>\n",
       "      <td>2021-09-06</td>\n",
       "      <td>ECLOUD LABS,INC.</td>\n",
       "      <td>NJ</td>\n",
       "      <td>USA</td>\n",
       "      <td>Y</td>\n",
       "      <td>SOFTWARE DEVELOPERS, APPLICATIONS</td>\n",
       "      <td>1</td>\n",
       "      <td>Y</td>\n",
       "      <td>87714.0</td>\n",
       "      <td>Year</td>\n",
       "      <td>2018.0</td>\n",
       "      <td>95000.0</td>\n",
       "      <td>0.0</td>\n",
       "      <td>Year</td>\n",
       "      <td>Y</td>\n",
       "      <td>N</td>\n",
       "      <td>AL</td>\n",
       "    </tr>\n",
       "  </tbody>\n",
       "</table>\n",
       "</div>"
      ],
      "text/plain": [
       "  CASE_STATUS VISA_CLASS EMPLOYMENT_START_DATE EMPLOYMENT_END_DATE  \\\n",
       "0   CERTIFIED       H-1B            2018-07-28          2021-07-27   \n",
       "1   CERTIFIED       H-1B            2017-11-06          2020-11-06   \n",
       "2   CERTIFIED       H-1B            2018-09-10          2021-09-09   \n",
       "3   CERTIFIED       H-1B            2018-09-10          2021-09-09   \n",
       "4   CERTIFIED       H-1B            2018-09-07          2021-09-06   \n",
       "\n",
       "                 EMPLOYER_NAME EMPLOYER_STATE EMPLOYER_COUNTRY  \\\n",
       "0        MICROSOFT CORPORATION             WA              USA   \n",
       "1       ERNST & YOUNG U.S. LLP             NJ              USA   \n",
       "2                 LOGIXHUB LLC             TX              USA   \n",
       "3  HEXAWARE TECHNOLOGIES, INC.             NJ              USA   \n",
       "4             ECLOUD LABS,INC.             NJ              USA   \n",
       "\n",
       "  AGENT_REPRESENTING_EMPLOYER                           SOC_NAME  \\\n",
       "0                           N  SOFTWARE DEVELOPERS, APPLICATIONS   \n",
       "1                           Y           ACCOUNTANTS AND AUDITORS   \n",
       "2                           N            DATABASE ADMINISTRATORS   \n",
       "3                           Y  SOFTWARE DEVELOPERS, APPLICATIONS   \n",
       "4                           Y  SOFTWARE DEVELOPERS, APPLICATIONS   \n",
       "\n",
       "   TOTAL_WORKERS FULL_TIME_POSITION  PREVAILING_WAGE PW_UNIT_OF_PAY  \\\n",
       "0              1                  Y         112549.0           Year   \n",
       "1              1                  Y          79976.0           Year   \n",
       "2              1                  Y          77792.0           Year   \n",
       "3              5                  Y          84406.0           Year   \n",
       "4              1                  Y          87714.0           Year   \n",
       "\n",
       "   PW_SOURCE_YEAR  WAGE_RATE_OF_PAY_FROM  WAGE_RATE_OF_PAY_TO  \\\n",
       "0          2017.0               143915.0                  0.0   \n",
       "1          2017.0               100000.0                  0.0   \n",
       "2          2018.0                78240.0                  0.0   \n",
       "3          2017.0                84406.0              85000.0   \n",
       "4          2018.0                95000.0                  0.0   \n",
       "\n",
       "  WAGE_UNIT_OF_PAY H1B_DEPENDENT WILLFUL_VIOLATOR WORKSITE_STATE  \n",
       "0             Year             N                N             WA  \n",
       "1             Year             N                N             CA  \n",
       "2             Year             N                N             TX  \n",
       "3             Year             Y                N             DE  \n",
       "4             Year             Y                N             AL  "
      ]
     },
     "execution_count": 4,
     "metadata": {},
     "output_type": "execute_result"
    }
   ],
   "source": [
    "h1bData.head()"
   ]
  },
  {
   "cell_type": "code",
   "execution_count": 5,
   "metadata": {
    "jupyter": {
     "source_hidden": true
    }
   },
   "outputs": [
    {
     "data": {
      "text/plain": [
       "CASE_STATUS                        0\n",
       "VISA_CLASS                         0\n",
       "EMPLOYMENT_START_DATE              3\n",
       "EMPLOYMENT_END_DATE                6\n",
       "EMPLOYER_NAME                     12\n",
       "EMPLOYER_STATE                     0\n",
       "EMPLOYER_COUNTRY                   0\n",
       "AGENT_REPRESENTING_EMPLOYER       16\n",
       "SOC_NAME                           8\n",
       "TOTAL_WORKERS                      0\n",
       "FULL_TIME_POSITION                 2\n",
       "PREVAILING_WAGE                    3\n",
       "PW_UNIT_OF_PAY                    51\n",
       "PW_SOURCE_YEAR                    61\n",
       "WAGE_RATE_OF_PAY_FROM              0\n",
       "WAGE_RATE_OF_PAY_TO                3\n",
       "WAGE_UNIT_OF_PAY                   8\n",
       "H1B_DEPENDENT                  14122\n",
       "WILLFUL_VIOLATOR               14127\n",
       "WORKSITE_STATE                     9\n",
       "dtype: int64"
      ]
     },
     "execution_count": 5,
     "metadata": {},
     "output_type": "execute_result"
    }
   ],
   "source": [
    "#Checking data for missing values \n",
    "\n",
    "h1bData.isnull().sum()"
   ]
  },
  {
   "cell_type": "markdown",
   "metadata": {},
   "source": [
    "### EDA"
   ]
  },
  {
   "cell_type": "markdown",
   "metadata": {},
   "source": [
    "Inital analysis of the data few key insights about the trend in the H1B visa.    \n",
    "    \n",
    "* Plotting the top 25 companies with the most number of sponsoring applications. **EY** had the most number of applications, around 150,000, followed by Deloitte consulting and HCL. "
   ]
  },
  {
   "cell_type": "code",
   "execution_count": 93,
   "metadata": {
    "jupyter": {
     "source_hidden": true
    }
   },
   "outputs": [
    {
     "data": {
      "image/png": "[encoded data removed]",
      "text/plain": [
       "<Figure size 360x360 with 1 Axes>"
      ]
     },
     "metadata": {
      "needs_background": "light"
     },
     "output_type": "display_data"
    }
   ],
   "source": [
    "#Plotting the top 25 companies with the most number of visa-applications\n",
    "\n",
    "d1 = h1bData.groupby([\"EMPLOYER_NAME\"],as_index=False)[\"TOTAL_WORKERS\"].sum().reset_index()\n",
    "d1 = d1.sort_values('TOTAL_WORKERS', ascending=False)\n",
    "#print(d1[[\"EMPLOYER_NAME\",\"TOTAL_WORKERS\"]].head(30))\n",
    "x = d1.iloc[0:25,1]\n",
    "y = d1.iloc[0:25,2]\n",
    "y_pos = np.arange(len(y))\n",
    "plt.barh(y_pos, y)\n",
    "plt.yticks(y_pos, x)\n",
    "plt.title(\"Top 25 Companies based on application number\")\n",
    "plt.xlabel(\"Number of applications\")\n",
    "plt.ylabel(\"Company\")\n",
    "plt.rcParams[\"figure.figsize\"] = (10,10)\n",
    "plt.rcParams.update({'font.size': 10})\n",
    "plt.show()"
   ]
  },
  {
   "cell_type": "markdown",
   "metadata": {},
   "source": [
    "* On checking the number of applications certified and deniend, it appeared almost 85% of the applications were certified. "
   ]
  },
  {
   "cell_type": "code",
   "execution_count": 92,
   "metadata": {
    "jupyter": {
     "source_hidden": true
    }
   },
   "outputs": [
    {
     "data": {
      "image/png": "[encoded data removed]",
      "text/plain": [
       "<Figure size 360x360 with 1 Axes>"
      ]
     },
     "metadata": {
      "needs_background": "light"
     },
     "output_type": "display_data"
    }
   ],
   "source": [
    "#Plotting percentage of applications denied/accepted\n",
    "\n",
    "d1 = h1bData.groupby([\"CASE_STATUS\"])\n",
    "d1 = d1[[\"VISA_CLASS\"]].count()\n",
    "d1 = d1.apply(lambda x: x*100/x.sum()).reset_index()\n",
    "x = d1[\"CASE_STATUS\"]\n",
    "y = d1[\"VISA_CLASS\"]\n",
    "y_pos = np.arange(len(y))\n",
    "plt.barh(y_pos, y)\n",
    "plt.yticks(y_pos, x)\n",
    "plt.title(\"Visa Status Fractions\")\n",
    "plt.xlabel(\"Percentage of applications\")\n",
    "plt.ylabel(\"Visa Status\")\n",
    "plt.rcParams[\"figure.figsize\"] = (5,5)\n",
    "plt.rcParams.update({'font.size': 8})\n",
    "plt.show()"
   ]
  },
  {
   "cell_type": "markdown",
   "metadata": {},
   "source": [
    "* Analysis of the Standard Occupation Classification (SOC), showed that the SOC with the most applications was **Software Developers**, followed by **Computer System Analyst**. "
   ]
  },
  {
   "cell_type": "code",
   "execution_count": 95,
   "metadata": {},
   "outputs": [
    {
     "data": {
      "image/png": "[encoded data removed]",
      "text/plain": [
       "<Figure size 360x360 with 1 Axes>"
      ]
     },
     "metadata": {
      "needs_background": "light"
     },
     "output_type": "display_data"
    }
   ],
   "source": [
    "#Plotting the top 10 most commonn Standard Occupation Classification (SOC) \n",
    "\n",
    "d1 = h1bData.groupby([\"SOC_NAME\"],as_index=False)[\"TOTAL_WORKERS\"].sum().reset_index()\n",
    "d1 = d1.sort_values('TOTAL_WORKERS', ascending=False)\n",
    "#print(d1[[\"EMPLOYER_NAME\",\"TOTAL_WORKERS\"]].head(30))\n",
    "x = d1.iloc[0:10,1]\n",
    "y = d1.iloc[0:10,2]\n",
    "y_pos = np.arange(len(y))\n",
    "plt.barh(y_pos, y)\n",
    "plt.yticks(y_pos, x)\n",
    "plt.title(\"Top 10 SOC wise applications\")\n",
    "plt.xlabel(\"Number of applications\")\n",
    "plt.ylabel(\"SOC\")\n",
    "plt.rcParams[\"figure.figsize\"] = (5,5)\n",
    "plt.rcParams.update({'font.size': 8})\n",
    "plt.show()"
   ]
  },
  {
   "cell_type": "markdown",
   "metadata": {},
   "source": [
    "* On analyzing the worksite states with most number of applications revealed **California** as the most popular state with more the 300,000 applications. Following CA were **Texas** and and **New York** with a relatively less than half number of applications as compared to CA. "
   ]
  },
  {
   "cell_type": "code",
   "execution_count": 96,
   "metadata": {
    "jupyter": {
     "source_hidden": true
    }
   },
   "outputs": [
    {
     "data": {
      "image/png": "[encoded data removed]",
      "text/plain": [
       "<Figure size 360x360 with 1 Axes>"
      ]
     },
     "metadata": {
      "needs_background": "light"
     },
     "output_type": "display_data"
    }
   ],
   "source": [
    "# Worksite state-wise application count\n",
    "\n",
    "d1 = h1bData.groupby([\"WORKSITE_STATE\"],as_index=False)[\"TOTAL_WORKERS\"].sum().reset_index()\n",
    "d1 = d1.sort_values('TOTAL_WORKERS', ascending=False)\n",
    "x = d1.iloc[0:5,1]\n",
    "y = d1.iloc[0:5,2]\n",
    "y_pos = np.arange(len(y))\n",
    "plt.barh(y_pos, y)\n",
    "plt.yticks(y_pos, x)\n",
    "plt.title(\"Top 5 Worksite states\")\n",
    "plt.xlabel(\"Number of applications\")\n",
    "plt.ylabel(\"State\")\n",
    "plt.rcParams[\"figure.figsize\"] = (5,5)\n",
    "plt.rcParams.update({'font.size': 10})\n",
    "plt.show()"
   ]
  },
  {
   "cell_type": "markdown",
   "metadata": {},
   "source": [
    "* Further analysis of the worksite state wise data revealed that a fraction of Certified, denied and withdrawn applications were similar across state"
   ]
  },
  {
   "cell_type": "code",
   "execution_count": 97,
   "metadata": {
    "jupyter": {
     "source_hidden": true
    }
   },
   "outputs": [
    {
     "data": {
      "image/png": "[encoded data removed]",
      "text/plain": [
       "<Figure size 360x360 with 1 Axes>"
      ]
     },
     "metadata": {
      "needs_background": "light"
     },
     "output_type": "display_data"
    }
   ],
   "source": [
    "d1 = h1bData[h1bData[\"WORKSITE_STATE\"].isin([\"CA\",\"NY\",\"NJ\",\"TX\",\"IL\"])]\n",
    "d1.groupby(['WORKSITE_STATE','CASE_STATUS']).size().unstack().plot(kind='bar', stacked=True)\n",
    "plt.title(\"Visa status in top 5 states\")\n",
    "plt.xlabel(\"State\")\n",
    "plt.ylabel(\"Number of applications\")\n",
    "plt.show()"
   ]
  },
  {
   "cell_type": "markdown",
   "metadata": {},
   "source": [
    "### Summary \n",
    "\n",
    "As a non-US citizen with the future prospects of working the United States, the analysis of the data provided few interesting trends. Primarily, job prospects are much higher in the state of *California* as compared to any other states, followed by Texas, New York and New Jersey. Moreover, working in the *Software Development or Computer systems* domain increases the chances of getting a job, thus increasing the chances of getting a visa. Also, overall *consulting* companies seems to have tha major share in the H1B applications as compared to tech companies. This highlight is specifically helpful which will assist me focusing my efforts towards consulting companies when looking for a job and sponsorship. \n",
    "\n",
    "The inital anaylsis provided few key highlights. However, a further anaylsis of the data might provide some more useful trends and insights about the H1B process. "
   ]
  },
  {
   "cell_type": "markdown",
   "metadata": {},
   "source": [
    "*****"
   ]
  },
  {
   "cell_type": "markdown",
   "metadata": {},
   "source": [
    "****"
   ]
  }
 ],
 "metadata": {
  "kernelspec": {
   "display_name": "Python 3",
   "language": "python",
   "name": "python3"
  },
  "language_info": {
   "codemirror_mode": {
    "name": "ipython",
    "version": 3
   },
   "file_extension": ".py",
   "mimetype": "text/x-python",
   "name": "python",
   "nbconvert_exporter": "python",
   "pygments_lexer": "ipython3",
   "version": "3.7.3"
  },
  "varInspector": {
   "cols": {
    "lenName": 16,
    "lenType": 16,
    "lenVar": 40
   },
   "kernels_config": {
    "python": {
     "delete_cmd_postfix": "",
     "delete_cmd_prefix": "del ",
     "library": "var_list.py",
     "varRefreshCmd": "print(var_dic_list())"
    },
    "r": {
     "delete_cmd_postfix": ") ",
     "delete_cmd_prefix": "rm(",
     "library": "var_list.r",
     "varRefreshCmd": "cat(var_dic_list()) "
    }
   },
   "types_to_exclude": [
    "module",
    "function",
    "builtin_function_or_method",
    "instance",
    "_Feature"
   ],
   "window_display": false
  }
 },
 "nbformat": 4,
 "nbformat_minor": 4
}
